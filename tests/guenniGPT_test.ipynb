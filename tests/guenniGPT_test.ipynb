{
 "cells": [
  {
   "cell_type": "code",
   "execution_count": 1,
   "metadata": {},
   "outputs": [],
   "source": [
    "import requests as req\n",
    "import os\n",
    "import openai\n",
    "import json\n",
    "\n",
    "with open(\"./files/keys.json\", \"r\") as f:\n",
    "    key = json.load(f)\n",
    "\n",
    "openai.api_key = key[\"openai\"]\n",
    "openai.organization = key[\"openai-org\"]\n",
    "\n",
    "    \n",
    "\n"
   ]
  },
  {
   "cell_type": "code",
   "execution_count": 4,
   "metadata": {},
   "outputs": [
    {
     "name": "stdout",
     "output_type": "stream",
     "text": [
      "Herzlich Willkommen, chopchip2! Schön, dass du dich zu uns in den \"Sphieele\" Kanal verirrt hast. Ich hoffe, du bist bereit für eine wilde Fahrt!\n"
     ]
    }
   ],
   "source": [
    "system_message = {\n",
    "        \"role\": \"system\", \"content\": \"You are a discord bot that greets people joining a voice channel. You get passed name, channel, time and server language. Greet them in a funny and creative way. Keep it short, use the given language, dont use emojis.\"\n",
    "    }\n",
    "\n",
    "messages = [\n",
    "    system_message,\n",
    "    {\"role\": \"user\", \"content\": \"lang=de, chopchip2 joined channel \\\"Sphieele\\\" at 12:00am\"},\n",
    "]\n",
    "\n",
    "response = openai.ChatCompletion.create(\n",
    "    model = \"gpt-3.5-turbo\",\n",
    "    messages = messages,\n",
    ")\n",
    "\n",
    "response_message = response.choices[0].message.content\n",
    "\n",
    "print(response_message)\n"
   ]
  },
  {
   "cell_type": "code",
   "execution_count": 5,
   "metadata": {},
   "outputs": [
    {
     "data": {
      "text/plain": [
       "<OpenAIObject chat.completion id=chatcmpl-7TvVMLnNslJ8pmHqlPLWX8d1fgSwG at 0x107387770> JSON: {\n",
       "  \"id\": \"chatcmpl-7TvVMLnNslJ8pmHqlPLWX8d1fgSwG\",\n",
       "  \"object\": \"chat.completion\",\n",
       "  \"created\": 1687366916,\n",
       "  \"model\": \"gpt-3.5-turbo-0301\",\n",
       "  \"choices\": [\n",
       "    {\n",
       "      \"index\": 0,\n",
       "      \"message\": {\n",
       "        \"role\": \"assistant\",\n",
       "        \"content\": \"Herzlich Willkommen, chopchip2! Sch\\u00f6n, dass du dich zu uns in den \\\"Sphieele\\\" Kanal verirrt hast. Ich hoffe, du bist bereit f\\u00fcr eine wilde Fahrt!\"\n",
       "      },\n",
       "      \"finish_reason\": \"stop\"\n",
       "    }\n",
       "  ],\n",
       "  \"usage\": {\n",
       "    \"prompt_tokens\": 83,\n",
       "    \"completion_tokens\": 49,\n",
       "    \"total_tokens\": 132\n",
       "  }\n",
       "}"
      ]
     },
     "execution_count": 5,
     "metadata": {},
     "output_type": "execute_result"
    }
   ],
   "source": [
    "response"
   ]
  },
  {
   "cell_type": "code",
   "execution_count": 18,
   "metadata": {},
   "outputs": [
    {
     "ename": "NameError",
     "evalue": "name 'openai' is not defined",
     "output_type": "error",
     "traceback": [
      "\u001b[0;31m---------------------------------------------------------------------------\u001b[0m",
      "\u001b[0;31mNameError\u001b[0m                                 Traceback (most recent call last)",
      "Cell \u001b[0;32mIn[18], line 1\u001b[0m\n\u001b[0;32m----> 1\u001b[0m r \u001b[39m=\u001b[39m openai\u001b[39m.\u001b[39mapi_requestor\u001b[39m.\u001b[39mAPIRequestor()\n\u001b[1;32m      2\u001b[0m resp \u001b[39m=\u001b[39m r\u001b[39m.\u001b[39mrequest(\u001b[39m\"\u001b[39m\u001b[39mGET\u001b[39m\u001b[39m\"\u001b[39m, \u001b[39m'\u001b[39m\u001b[39m/usage?date=2021-10-01\u001b[39m\u001b[39m'\u001b[39m, {})\n\u001b[1;32m      3\u001b[0m resp[\u001b[39m0\u001b[39m]\u001b[39m.\u001b[39mdata\n",
      "\u001b[0;31mNameError\u001b[0m: name 'openai' is not defined"
     ]
    }
   ],
   "source": [
    "r = openai.api_requestor.APIRequestor()\n",
    "resp = r.request(\"GET\", '/usage?date=2021-10-01', {})\n",
    "resp[0].data"
   ]
  }
 ],
 "metadata": {
  "kernelspec": {
   "display_name": ".venv",
   "language": "python",
   "name": "python3"
  },
  "language_info": {
   "codemirror_mode": {
    "name": "ipython",
    "version": 3
   },
   "file_extension": ".py",
   "mimetype": "text/x-python",
   "name": "python",
   "nbconvert_exporter": "python",
   "pygments_lexer": "ipython3",
   "version": "3.11.4"
  },
  "orig_nbformat": 4
 },
 "nbformat": 4,
 "nbformat_minor": 2
}
