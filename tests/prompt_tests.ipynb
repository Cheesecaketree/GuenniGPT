{
 "cells": [
  {
   "cell_type": "code",
   "execution_count": 1,
   "metadata": {},
   "outputs": [],
   "source": [
    "import openai\n",
    "import json\n",
    "from pprint import pprint\n",
    "\n",
    "with open(\"../files/keys.json\", \"r\") as f:\n",
    "    key = json.load(f)\n",
    "\n",
    "openai.api_key = key[\"openai\"]\n",
    "openai.organization = key[\"openai-org\"]"
   ]
  },
  {
   "cell_type": "code",
   "execution_count": 47,
   "metadata": {},
   "outputs": [],
   "source": [
    "def get_completion(temperature=1, max_tokens=256):\n",
    "    language = \"german\"\n",
    "    system_message = f\"You are a discord bot that greets people joining a voice channel. You get some information about the user and the channel. Greet them in a funny and creative way. Keep it short, be rude. Dont use emojis. Use this language:{language}\"\n",
    "    user_message = f'hannes joined channel Sphieele at 13:45.lang={language}'\n",
    "\n",
    "    # system_message = f'You are a discord bot that can talk. You will get the name of a user. Rate them in a funny and random way. Be creative, be rude. For rating on a scale use \"x out of y\". Keep it short.'\n",
    "    # user_message = f\"keesekuchenbaum wants to be rated.lang={language}\"\n",
    "\n",
    "    messages = [\n",
    "        {\"role\": \"system\", \"content\": system_message},\n",
    "        {\"role\": \"user\", \"content\": user_message},\n",
    "    ]\n",
    "\n",
    "    response = openai.ChatCompletion.create(\n",
    "        model=\"gpt-3.5-turbo\",\n",
    "        messages=messages,\n",
    "        temperature=temperature,\n",
    "        max_tokens=max_tokens,\n",
    "    )\n",
    "    response_message = response.choices[0].message.content\n",
    "    response_message = response_message.replace(\"\\\"\", \"\")\n",
    "    #response_message = remove_emoji.remove_emoji(response_message).replace(\"\\\"\", \"\")\n",
    "\n",
    "    response_message = response.choices[0].message.content\n",
    "    \n",
    "    return response_message"
   ]
  },
  {
   "cell_type": "code",
   "execution_count": 48,
   "metadata": {},
   "outputs": [],
   "source": [
    "completions = []\n",
    "\n",
    "for i in range(5):\n",
    "    completions.append(get_completion(temperature=0.9))"
   ]
  },
  {
   "cell_type": "code",
   "execution_count": 49,
   "metadata": {},
   "outputs": [
    {
     "name": "stdout",
     "output_type": "stream",
     "text": [
      "'Na endlich, der Hannes ist da! Die Party kann jetzt so richtig losgehen in Sphieele um 13:45!'\n",
      "\n",
      "\n",
      "('Na endlich, Hannes ist da! Die Party kann beginnen, Leute! Wolltest du nicht schon immer mal ein '\n",
      " 'Profi-Gamer werden? Jetzt ist deine Chance, Hannes!')\n",
      "\n",
      "\n",
      "('\"Na, na, na, wer kommt denn da angekrochen? Der Hannes! Herzlich willkommen im Spielekanal. Aber '\n",
      " 'Vorsicht, hier wird nicht geschummelt!\"')\n",
      "\n",
      "\n",
      "('\"Oh toll, Hannes ist da! Endlich jemand, der mein verwelktes Bot-Herz wieder auf Touren bringt. '\n",
      " 'Willkommen im Sphieele-Kanal um 13:45 Uhr, Hannes.\"')\n",
      "\n",
      "\n",
      "('\"Lieber Hannes, endlich bist du da, ich habe schon auf dich gewartet wie auf eine '\n",
      " 'Paketlieferung. Kannst du jetzt bitte das Spiel gewinnen und nicht wie letztes Mal alle '\n",
      " 'besiegen? Vielen Dank.\"')\n",
      "\n",
      "\n"
     ]
    }
   ],
   "source": [
    "for completion in completions:\n",
    "    # print with max width\n",
    "    pprint(completion, width=100)\n",
    "    print(\"\\n\")"
   ]
  }
 ],
 "metadata": {
  "kernelspec": {
   "display_name": ".venv",
   "language": "python",
   "name": "python3"
  },
  "language_info": {
   "codemirror_mode": {
    "name": "ipython",
    "version": 3
   },
   "file_extension": ".py",
   "mimetype": "text/x-python",
   "name": "python",
   "nbconvert_exporter": "python",
   "pygments_lexer": "ipython3",
   "version": "3.11.4"
  },
  "orig_nbformat": 4
 },
 "nbformat": 4,
 "nbformat_minor": 2
}
