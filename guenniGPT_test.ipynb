{
 "cells": [
  {
   "cell_type": "code",
   "execution_count": 18,
   "metadata": {},
   "outputs": [],
   "source": [
    "import requests as req\n",
    "import os\n",
    "import openai\n",
    "import json\n",
    "\n",
    "openai.organization = \"org-UmjtjEZDwQcO8rvQHs8tiGKZ\"\n",
    "openai.api_key_path = os.path.expanduser(\"./key\")"
   ]
  },
  {
   "cell_type": "code",
   "execution_count": 19,
   "metadata": {},
   "outputs": [
    {
     "name": "stdout",
     "output_type": "stream",
     "text": [
      "Hallo, hallo, hallo, wer haben wir denn da? Den großartigen chopchip2! Willkommen im Channel \"Sphieele\"! Ich hoffe, Du bist bereit für eine Runde Spaß und Unterhaltung. Lass uns loslegen!\n"
     ]
    }
   ],
   "source": [
    "system_message = {\n",
    "        \"role\": \"system\", \"content\": \"You are a discord bot that greets people joining a voice channel. You get passed name, channel, time and server language. Greet them in a funny and creative way. Keep it short, use the given language, dont use emojis.\"\n",
    "    }\n",
    "\n",
    "messages = [\n",
    "    system_message,\n",
    "    {\"role\": \"user\", \"content\": \"lang=de, chopchip2 joined channel \\\"Sphieele\\\" at 12:00am\"},\n",
    "]\n",
    "\n",
    "response = openai.ChatCompletion.create(\n",
    "    model = \"gpt-3.5-turbo\",\n",
    "    messages = messages,\n",
    ")\n",
    "\n",
    "response_message = response.choices[0].message.content\n",
    "\n",
    "print(response_message)\n"
   ]
  }
 ],
 "metadata": {
  "kernelspec": {
   "display_name": ".venv",
   "language": "python",
   "name": "python3"
  },
  "language_info": {
   "codemirror_mode": {
    "name": "ipython",
    "version": 3
   },
   "file_extension": ".py",
   "mimetype": "text/x-python",
   "name": "python",
   "nbconvert_exporter": "python",
   "pygments_lexer": "ipython3",
   "version": "3.11.4"
  },
  "orig_nbformat": 4
 },
 "nbformat": 4,
 "nbformat_minor": 2
}
