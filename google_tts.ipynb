{
 "cells": [
  {
   "cell_type": "code",
   "execution_count": null,
   "metadata": {},
   "outputs": [],
   "source": [
    "from typing import Sequence\n",
    "import os\n",
    "\n",
    "import google.cloud.texttospeech as tts\n",
    "\n",
    "os.environ[\"GOOGLE_APPLICATION_CREDENTIALS\"] = \"./files/gcloud_key.json\"\n",
    "\n",
    "\n",
    "def unique_languages_from_voices(voices: Sequence[tts.Voice]):\n",
    "    language_set = set()\n",
    "    for voice in voices:\n",
    "        for language_code in voice.language_codes:\n",
    "            language_set.add(language_code)\n",
    "    return language_set\n",
    "\n",
    "\n",
    "def list_languages():\n",
    "    client = tts.TextToSpeechClient()\n",
    "    response = client.list_voices()\n",
    "    languages = unique_languages_from_voices(response.voices)\n",
    "\n",
    "    print(f\" Languages: {len(languages)} \".center(60, \"-\"))\n",
    "    for i, language in enumerate(sorted(languages)):\n",
    "        print(f\"{language:>10}\", end=\"\\n\" if i % 5 == 4 else \"\")\n",
    "        \n",
    "\n",
    "list_languages()"
   ]
  },
  {
   "cell_type": "code",
   "execution_count": null,
   "metadata": {},
   "outputs": [],
   "source": [
    "def synthesize_ssml(ssml_text, voice, audio_config):\n",
    "    client = tts.TextToSpeechClient()\n",
    "    \n",
    "    input_text = tts.SynthesisInput(ssml=ssml_text)\n",
    "    \n",
    "    response = client.synthesize_speech(\n",
    "        input=input_text,\n",
    "        voice=voice,\n",
    "        audio_config=audio_config,\n",
    "    )\n",
    "    \n",
    "    return response, input_text\n",
    "\n",
    "de_voice = tts.VoiceSelectionParams(\n",
    "    language_code=\"de-DE\", # \"de-DE\",\n",
    "    name= \"de-DE-Wavenet-F\",   # \"de-DE-Standard-F\", #\"de-DE-Wavenet-B\",\n",
    "    ssml_gender=tts.SsmlVoiceGender.FEMALE,\n",
    ")\n",
    "\n",
    "mp3_audio_config = tts.AudioConfig(\n",
    "    audio_encoding=tts.AudioEncoding.MP3\n",
    ")\n",
    "\n",
    "\n",
    "text = '<prosody rate=\"medium\" pitch=\"high\">Guten Morgen, Keesekuchenbaum! Hoffentlich hast Du Dein Frühstück schon gegessen, denn hier wird nur gespielt! Viel Spaß!</prosody>'\n",
    "text2 = '<speak>Guten Morgen, Keesekuchenbaum! Hoffentlich hast Du Dein Frühstück schon gegessen, denn hier wird nur gespielt! Viel Spaß!</speak>'\n",
    "\n",
    "\n",
    "filename = \"test2.mp3\"\n",
    "response, input_text = synthesize_ssml(text2, de_voice, mp3_audio_config)\n",
    "\n",
    "with open(filename, \"wb\") as out:\n",
    "    out.write(response.audio_content)\n",
    "    print(\"Audio content written to \" + filename)"
   ]
  }
 ],
 "metadata": {
  "kernelspec": {
   "display_name": ".venv",
   "language": "python",
   "name": "python3"
  },
  "language_info": {
   "name": "python",
   "version": "3.11.4"
  },
  "orig_nbformat": 4
 },
 "nbformat": 4,
 "nbformat_minor": 2
}
